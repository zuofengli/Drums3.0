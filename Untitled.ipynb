{
 "cells": [
  {
   "cell_type": "code",
   "execution_count": 5,
   "id": "951dd486-5754-45d1-bdc7-ff538b2a3c90",
   "metadata": {},
   "outputs": [],
   "source": [
    "import os, sys\n",
    "sys.path.append(os.environ['DAB_Micro_Segment_Project_Home'])"
   ]
  },
  {
   "cell_type": "code",
   "execution_count": 7,
   "id": "4fa2d44c-d9ff-4c56-84dc-06ff7308ec13",
   "metadata": {},
   "outputs": [],
   "source": [
    "from HCPMicroSegment.core import TakedaDriver"
   ]
  },
  {
   "cell_type": "code",
   "execution_count": 61,
   "id": "3008997c-d2d5-4646-acfb-bc4206bd2a0b",
   "metadata": {},
   "outputs": [],
   "source": [
    "driver = TakedaDriver()"
   ]
  },
  {
   "cell_type": "code",
   "execution_count": null,
   "id": "1915c0ab-8a98-4f6f-be43-1ff44e3696f8",
   "metadata": {},
   "outputs": [],
   "source": []
  },
  {
   "cell_type": "code",
   "execution_count": 62,
   "id": "25ebbadc-d3a9-4ff8-b2b4-46dca57973d3",
   "metadata": {},
   "outputs": [],
   "source": [
    "egfr_lovd_url = 'https://databases.lovd.nl/shared/genes/EGFR'"
   ]
  },
  {
   "cell_type": "code",
   "execution_count": 63,
   "id": "b9f7a33f-c102-45d4-953f-aecb8678ae16",
   "metadata": {},
   "outputs": [],
   "source": [
    "driver.get(egfr_lovd_url)"
   ]
  },
  {
   "cell_type": "code",
   "execution_count": 20,
   "id": "29a0316d-978e-4a1d-9acf-255eb5fdaa27",
   "metadata": {},
   "outputs": [],
   "source": [
    "mutation_url = 'https://zhuanlan.zhihu.com/p/608157820'"
   ]
  },
  {
   "cell_type": "code",
   "execution_count": 21,
   "id": "b81e614f-0a6e-468e-a9f0-b548f1f810e8",
   "metadata": {},
   "outputs": [],
   "source": [
    "driver.get(mutation_url)"
   ]
  },
  {
   "cell_type": "code",
   "execution_count": 22,
   "id": "96572420-97e5-45cc-a0c4-7b655eccc912",
   "metadata": {},
   "outputs": [],
   "source": []
  },
  {
   "cell_type": "code",
   "execution_count": 32,
   "id": "a920cc37-31fd-4c84-935b-111ae342942a",
   "metadata": {},
   "outputs": [],
   "source": [
    "mutation_url = 'https://www.cn-healthcare.com/articlewm/20220426/content-1345099.html'\n",
    "\n",
    "driver.execute_script(\"window.open('about:blank', 'secondtab');\")\n",
    "driver.driver.switch_to.window(\"secondtab\")\n",
    "driver.get(mutation_url)"
   ]
  },
  {
   "cell_type": "code",
   "execution_count": 34,
   "id": "4adf8d77-8bd4-4199-832a-54f8d4382c1b",
   "metadata": {},
   "outputs": [],
   "source": []
  },
  {
   "cell_type": "code",
   "execution_count": 57,
   "id": "f822751c-77b2-4670-a989-3f272ed595ae",
   "metadata": {},
   "outputs": [],
   "source": [
    "def openurl(t_driver, url, seqid):\n",
    "    tab_name = 'tab_{}'.format(seqid)\n",
    "    t_driver.execute_script(\"window.open('about:blank', '{}');\".format(tab_name))\n",
    "    t_driver.driver.switch_to.window(tab_name)\n",
    "    t_driver.get(url)\n",
    "openurl(driver, 'https://www.ncbi.nlm.nih.gov/medgen/927189#:~:text=Definition%20In-frame%20deletions%20occurring%20within%20the%20exon%2019-encoded,with%20increased%20sensitivity%20to%20EGFR%20tyrosine%20kinase%20inhibitors.', 0)"
   ]
  },
  {
   "cell_type": "code",
   "execution_count": 58,
   "id": "6e1c11fe-82d8-4f51-a6cc-4c347bf96d7d",
   "metadata": {},
   "outputs": [],
   "source": [
    "openurl(driver, 'http://www.baidu.com', 1)"
   ]
  },
  {
   "cell_type": "code",
   "execution_count": 60,
   "id": "c09a480f-1fe8-429d-bd13-9bc7b452c8ff",
   "metadata": {},
   "outputs": [],
   "source": [
    "mutation_jpg = 'https://www.cn-healthcare.com/articlewm/20220426/content-1345099.html'\n",
    "driver.execute_script(\"window.open('about:blank', '2ndtab');\")\n",
    "driver.driver.switch_to.window(\"2ndtab\")\n",
    "driver.get(mutation_jpg)\n",
    "import time\n",
    "time.sleep(3)\n",
    "driver.find_element_by_xpath('//img[@src=\"http://files.cn-healthcare.com/upload/20220426/28181650963931045\"]').click()"
   ]
  },
  {
   "cell_type": "code",
   "execution_count": null,
   "id": "b7af89ad-0ff2-4557-b98c-b6823015279e",
   "metadata": {},
   "outputs": [],
   "source": []
  }
 ],
 "metadata": {
  "kernelspec": {
   "display_name": "Python 3 (ipykernel)",
   "language": "python",
   "name": "python3"
  },
  "language_info": {
   "codemirror_mode": {
    "name": "ipython",
    "version": 3
   },
   "file_extension": ".py",
   "mimetype": "text/x-python",
   "name": "python",
   "nbconvert_exporter": "python",
   "pygments_lexer": "ipython3",
   "version": "3.8.5"
  }
 },
 "nbformat": 4,
 "nbformat_minor": 5
}
